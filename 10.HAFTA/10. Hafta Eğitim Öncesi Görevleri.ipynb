{
 "cells": [
  {
   "attachments": {},
   "cell_type": "markdown",
   "metadata": {},
   "source": [
    "# Problem 1"
   ]
  },
  {
   "cell_type": "code",
   "execution_count": 6,
   "metadata": {},
   "outputs": [
    {
     "name": "stdout",
     "output_type": "stream",
     "text": [
      "[1 0 7 2 9]\n",
      "(5,)\n",
      "[[1]\n",
      " [0]\n",
      " [7]\n",
      " [2]\n",
      " [9]]\n",
      "2\n"
     ]
    }
   ],
   "source": [
    "# 1 - numpy kütüphanesini import edin\n",
    "import numpy as np\n",
    "\n",
    "# 2 - 0 ile 10 arasında 5 sayıdan oluşan matris üretin\n",
    "a=np.random.randint(0,10,5)\n",
    "print(a)\n",
    "# 3 - matris'in boyutunu öğrenin\n",
    "print(a.shape)\n",
    "\n",
    "# 4 - matris'i yeniden boyutlandırın\n",
    "a = a.reshape(5, 1)  \n",
    "print(a)\n",
    "# 5 - matris'in boyut sayısını öğrenin\n",
    "print(a.ndim)\n"
   ]
  },
  {
   "attachments": {},
   "cell_type": "markdown",
   "metadata": {},
   "source": [
    "# Problem 2"
   ]
  },
  {
   "cell_type": "code",
   "execution_count": 27,
   "metadata": {},
   "outputs": [
    {
     "name": "stdout",
     "output_type": "stream",
     "text": [
      "[0 3 6 9]\n",
      "[0 3 6]\n",
      "[9]\n",
      "[]\n",
      "[0 3 6 9]\n"
     ]
    }
   ],
   "source": [
    "# 1 - 0 ile 10 arasında bulunan tek sayılardan oluşan matris üretin\n",
    "m=np.arange(0,10,3)\n",
    "print(m)\n",
    "# 2 - Oluşturduğunuz matrisi parçalayın\n",
    "a,b,c=np.split(m,[3,5])\n",
    "print(a)\n",
    "print(b)\n",
    "print(c)\n",
    "# 3 - Parçalanmış matrisleri birleştirin\n",
    "print(np.concatenate([a,b,c]))\n"
   ]
  },
  {
   "attachments": {},
   "cell_type": "markdown",
   "metadata": {},
   "source": [
    "# Problem 3"
   ]
  },
  {
   "cell_type": "code",
   "execution_count": 37,
   "metadata": {},
   "outputs": [
    {
     "name": "stdout",
     "output_type": "stream",
     "text": [
      "1\n",
      "(10,)\n",
      "10\n",
      "int32\n"
     ]
    }
   ],
   "source": [
    "# 1 - 5 ile 100 arasında ikişer ikişer atlayarak rastgele 10 sayıdan oluşan matris üretin\n",
    "a=np.random.randint(5,100,2)\n",
    "\n",
    "# 2 - matris'in özelliklerini inceleyin\n",
    "a=np.random.randint(10,size=10)\n",
    "print(a.ndim) #boyut sayısı\n",
    "print(a.shape) #boyut bilgis\n",
    "print(a.size) #toplam eleman sayısı\n",
    "print(a.dtype) #veri tipi\n"
   ]
  }
 ],
 "metadata": {
  "kernelspec": {
   "display_name": "Python 3",
   "language": "python",
   "name": "python3"
  },
  "language_info": {
   "codemirror_mode": {
    "name": "ipython",
    "version": 3
   },
   "file_extension": ".py",
   "mimetype": "text/x-python",
   "name": "python",
   "nbconvert_exporter": "python",
   "pygments_lexer": "ipython3",
   "version": "3.12.3"
  },
  "orig_nbformat": 4,
  "vscode": {
   "interpreter": {
    "hash": "5026d2d6e7aaaaba093def813beadff083d8733e4a511af01735cbabd156995d"
   }
  }
 },
 "nbformat": 4,
 "nbformat_minor": 2
}
