{
 "cells": [
  {
   "cell_type": "code",
   "execution_count": 6,
   "metadata": {},
   "outputs": [
    {
     "name": "stdout",
     "output_type": "stream",
     "text": [
      "[1, 4, 9, 16, 25, 36, 49, 64, 81, 100]\n"
     ]
    }
   ],
   "source": [
    "#list comprehention\n",
    "Liste=[1,2,3,4,5,6,7,8,9,10]\n",
    "yeniListe=[]\n",
    "for i in Liste :\n",
    "    yeniListe.append(i*i)\n",
    "print(yeniListe)\n"
   ]
  },
  {
   "cell_type": "code",
   "execution_count": 8,
   "metadata": {},
   "outputs": [
    {
     "name": "stdout",
     "output_type": "stream",
     "text": [
      "[1, 4, 9, 16, 25, 36, 49, 64, 81, 100]\n"
     ]
    }
   ],
   "source": [
    "#list comprehention\n",
    "Liste=[1,2,3,4,5,6,7,8,9,10]\n",
    "yeniListe=[i*i for i in Liste]\n",
    "print(yeniListe)"
   ]
  },
  {
   "cell_type": "code",
   "execution_count": 10,
   "metadata": {},
   "outputs": [
    {
     "name": "stdout",
     "output_type": "stream",
     "text": [
      "[1, 2, 3, 4, 5, 6, 7, 8, 9, 10, 11, 12, 13, 14, 15]\n"
     ]
    }
   ],
   "source": [
    "#list comprehention\n",
    "Liste=[[1,2,3],[4,5,6,7,8],[9,10,11,12,13,14,15]]\n",
    "Liste2=[x for i in Liste for x in i]\n",
    "print(Liste2)"
   ]
  },
  {
   "cell_type": "code",
   "execution_count": 11,
   "metadata": {},
   "outputs": [
    {
     "name": "stdout",
     "output_type": "stream",
     "text": [
      "[1, 2, 3, 5, 6, 7, 8, 9, 10]\n"
     ]
    }
   ],
   "source": [
    "#list comprehention\n",
    "Liste1=[1,2,3,4,5,6,7,8,9,10]\n",
    "Liste2=[i for i in Liste1 if not i==4 or i==9]\n",
    "print(Liste2)"
   ]
  },
  {
   "cell_type": "code",
   "execution_count": 12,
   "metadata": {},
   "outputs": [
    {
     "name": "stdout",
     "output_type": "stream",
     "text": [
      "merhaba\n"
     ]
    }
   ],
   "source": [
    "#Fonksiyonlar\n",
    "def selamla():\n",
    "    print(\"merhaba\")\n",
    "selamla()"
   ]
  },
  {
   "cell_type": "code",
   "execution_count": 15,
   "metadata": {},
   "outputs": [
    {
     "name": "stdout",
     "output_type": "stream",
     "text": [
      "merhaba ziyaretçi\n",
      "merhaba irem\n"
     ]
    }
   ],
   "source": [
    "#argümanlar\n",
    "def helloworld(name= \"ziyaretçi\"):\n",
    "    print(\"merhaba\",name)\n",
    "helloworld()\n",
    "helloworld(\"irem\")"
   ]
  },
  {
   "cell_type": "code",
   "execution_count": 18,
   "metadata": {},
   "outputs": [
    {
     "name": "stdout",
     "output_type": "stream",
     "text": [
      "6\n"
     ]
    }
   ],
   "source": [
    "def topla(sayi1,sayi2,sayi3):\n",
    "    toplam= sayi1 + sayi2 +sayi3\n",
    "    print(toplam)\n",
    "\n",
    "topla(1,2,3)"
   ]
  },
  {
   "cell_type": "code",
   "execution_count": 23,
   "metadata": {},
   "outputs": [
    {
     "name": "stdout",
     "output_type": "stream",
     "text": [
      " sisteme hoş geldin irem kasar\n",
      " sisteme hoş geldin elif kasar\n"
     ]
    }
   ],
   "source": [
    "def merhaba (name= \"irem\",surname=\"kasar\"):\n",
    "    print(\" sisteme hoş geldin \" + name + \" \" + surname)\n",
    "merhaba()\n",
    "merhaba(\"elif\")"
   ]
  },
  {
   "cell_type": "code",
   "execution_count": 25,
   "metadata": {},
   "outputs": [
    {
     "name": "stdout",
     "output_type": "stream",
     "text": [
      "30\n",
      "1\n"
     ]
    }
   ],
   "source": [
    "def carp( sayi1=1, sayi2=1, sayi3=1 ):\n",
    "    c = sayi1 * sayi2 * sayi3\n",
    "    print(c)\n",
    "carp(2,3,5)\n",
    "carp()"
   ]
  },
  {
   "cell_type": "code",
   "execution_count": 28,
   "metadata": {},
   "outputs": [
    {
     "name": "stdout",
     "output_type": "stream",
     "text": [
      "hola\n",
      "merhaba\n"
     ]
    }
   ],
   "source": [
    "def merhaba(dil):\n",
    "    if dil== \"es\":\n",
    "        print(\"hola\")\n",
    "    elif dil==\"fr\":\n",
    "        print(\"bonjour\")\n",
    "    elif dil==\"en\":\n",
    "        print(\"hello\")\n",
    "    else:\n",
    "        print(\"merhaba\")\n",
    "merhaba(\"es\")\n",
    "merhaba(\"tr\")"
   ]
  },
  {
   "cell_type": "code",
   "execution_count": 32,
   "metadata": {},
   "outputs": [
    {
     "name": "stdout",
     "output_type": "stream",
     "text": [
      "3.0\n"
     ]
    }
   ],
   "source": [
    "#return den sonraki kodlar yürütülmez.kodun tamamında kullanmak için işlevin kodu tamamlandıktan sonra kalan değeri döndürür.\n",
    "def dikUcgenAlaniHesapla(a,b):\n",
    "    return(a*b)/2\n",
    "alan=dikUcgenAlaniHesapla(2,3)\n",
    "print(alan)"
   ]
  },
  {
   "cell_type": "code",
   "execution_count": 33,
   "metadata": {},
   "outputs": [
    {
     "name": "stdout",
     "output_type": "stream",
     "text": [
      "(4,)\n"
     ]
    }
   ],
   "source": [
    "#args da sınırsız sayıda parametreli fonk. oluşturmak için parametremizin önüne tek yıldız koyabiliriz.isimsiz argümanlardır.\n",
    "def sayilar(*x):\n",
    "    print(x)\n",
    "sayilar(4)"
   ]
  },
  {
   "cell_type": "code",
   "execution_count": 34,
   "metadata": {},
   "outputs": [
    {
     "name": "stdout",
     "output_type": "stream",
     "text": [
      "55\n"
     ]
    }
   ],
   "source": [
    "def topla(*x):\n",
    "    toplam=0\n",
    "    for i in x:\n",
    "        toplam += i #toplam = toplam + 1\n",
    "    print(toplam)\n",
    "topla(1,2,3,4,5,6,7,8,9,10)"
   ]
  },
  {
   "cell_type": "code",
   "execution_count": 36,
   "metadata": {},
   "outputs": [
    {
     "name": "stdout",
     "output_type": "stream",
     "text": [
      "{'adi': 'irem', 'soyadi': 'kasar', 'yas': 23}\n"
     ]
    }
   ],
   "source": [
    "#**kwargs da fonk u çağırırken anahtar değer ilişkisiyle çağırabilmemizdir.isimli argümanlardır.\n",
    "def kimlikGöster(**kimlik):\n",
    "    print(kimlik)\n",
    "kimlikGöster(adi=\"irem\", soyadi=\"kasar\", yas=23)"
   ]
  },
  {
   "cell_type": "code",
   "execution_count": 38,
   "metadata": {},
   "outputs": [
    {
     "name": "stdout",
     "output_type": "stream",
     "text": [
      "(20, 30, 40, 50)\n",
      "6\n",
      "{'adi': 'irem', 'soyadi': 'kasar', 'yas': 23}\n"
     ]
    }
   ],
   "source": [
    "def ornek(a,*sayilar,b,**kimlik):\n",
    "    print(sayilar)\n",
    "    print(b)\n",
    "    print(kimlik)\n",
    "ornek(10,20,30,40,50,b=6,adi=\"irem\", soyadi=\"kasar\", yas=23)"
   ]
  },
  {
   "cell_type": "code",
   "execution_count": 39,
   "metadata": {},
   "outputs": [],
   "source": [
    "#pass deyimi: null değer atama için kullanılır\n",
    "def carp(*sayilar):\n",
    "    for sayi in sayilar:\n",
    "        pass #programın çalışmasına engel olma ! boş geçmesini söyledik.\n",
    "carp(2,5)"
   ]
  },
  {
   "cell_type": "code",
   "execution_count": null,
   "metadata": {},
   "outputs": [],
   "source": [
    "#GLOBAL VE YEREL DEĞİŞKENLER\n",
    "#global değişken\n",
    "def goster():\n",
    "    #yerel değişken\n",
    "    "
   ]
  },
  {
   "cell_type": "code",
   "execution_count": 40,
   "metadata": {},
   "outputs": [
    {
     "ename": "NameError",
     "evalue": "name 'x' is not defined",
     "output_type": "error",
     "traceback": [
      "\u001b[1;31m---------------------------------------------------------------------------\u001b[0m",
      "\u001b[1;31mNameError\u001b[0m                                 Traceback (most recent call last)",
      "Cell \u001b[1;32mIn[40], line 5\u001b[0m\n\u001b[0;32m      3\u001b[0m     \u001b[38;5;28mprint\u001b[39m(x)\n\u001b[0;32m      4\u001b[0m yazdir2\n\u001b[1;32m----> 5\u001b[0m \u001b[38;5;28mprint\u001b[39m(\u001b[43mx\u001b[49m)\n",
      "\u001b[1;31mNameError\u001b[0m: name 'x' is not defined"
     ]
    }
   ],
   "source": [
    "def yazdir2():\n",
    "    x=5\n",
    "    print(x)\n",
    "yazdir2\n",
    "print(x)\n"
   ]
  },
  {
   "cell_type": "code",
   "execution_count": 41,
   "metadata": {},
   "outputs": [
    {
     "name": "stdout",
     "output_type": "stream",
     "text": [
      "5\n",
      "5\n"
     ]
    }
   ],
   "source": [
    "def yazdir3():\n",
    "    global x\n",
    "    x=5\n",
    "    print(x)\n",
    "yazdir3()\n",
    "print(x)"
   ]
  },
  {
   "cell_type": "code",
   "execution_count": 43,
   "metadata": {},
   "outputs": [
    {
     "data": {
      "text/plain": [
       "3.0"
      ]
     },
     "execution_count": 43,
     "metadata": {},
     "output_type": "execute_result"
    }
   ],
   "source": [
    "#lambda isimsiz olarak tanımlanır ve tek satırda\n",
    "dikUcgenAlaniHesapla = lambda a,b: a*b/2\n",
    "dikUcgenAlaniHesapla(2,3)"
   ]
  },
  {
   "cell_type": "code",
   "execution_count": 44,
   "metadata": {},
   "outputs": [
    {
     "name": "stdout",
     "output_type": "stream",
     "text": [
      "6\n"
     ]
    }
   ],
   "source": [
    "ikiyleCarp= lambda x: print (x*2)\n",
    "ikiyleCarp(3)"
   ]
  },
  {
   "cell_type": "code",
   "execution_count": 45,
   "metadata": {},
   "outputs": [
    {
     "name": "stdout",
     "output_type": "stream",
     "text": [
      "meri\n"
     ]
    }
   ],
   "source": [
    "ters=lambda s : s [::-1]\n",
    "print(ters(\"irem\"))"
   ]
  }
 ],
 "metadata": {
  "kernelspec": {
   "display_name": "Python 3",
   "language": "python",
   "name": "python3"
  },
  "language_info": {
   "codemirror_mode": {
    "name": "ipython",
    "version": 3
   },
   "file_extension": ".py",
   "mimetype": "text/x-python",
   "name": "python",
   "nbconvert_exporter": "python",
   "pygments_lexer": "ipython3",
   "version": "3.12.3"
  }
 },
 "nbformat": 4,
 "nbformat_minor": 2
}
