{
 "cells": [
  {
   "cell_type": "markdown",
   "metadata": {},
   "source": [
    "# Problem 1\n",
    "`ogrenciler` adında bir sözlük oluşturunuz. Kullanıcıdan döngü yardımıyla 3 öğrenci için veri girmesini isteyerek öğrencilerin sırasıyla okul numarası, isim, soy isim, telefon numarası ve doğum tarihi bilgilerini alınız. Aldığınız öğrenci bilgilerini yine aynı döngü yardımıyla `ogrenciler` adındaki sözlükte saklayınız. Daha sonra öğrenci bilgilerinin bulunduğu sözlük yapısını ekrana bastırınız.\n",
    "\n"
   ]
  },
  {
   "cell_type": "code",
   "execution_count": 4,
   "metadata": {},
   "outputs": [
    {
     "name": "stdout",
     "output_type": "stream",
     "text": [
      "1. Öğrenci bilgilerini giriniz:\n",
      "2. Öğrenci bilgilerini giriniz:\n",
      "3. Öğrenci bilgilerini giriniz:\n",
      "{'571': {'İsim': 'irem', 'Soy İsim': 'kasar', 'Telefon': '3245678938', 'Doğum Tarihi': '83.24.54'}}\n"
     ]
    }
   ],
   "source": [
    "ogrenciler = {}\n",
    "for i in range(3):\n",
    "    print(f\"{i+1}. Öğrenci bilgilerini giriniz:\")\n",
    "    okul_no = input(\"Okul Numarası: \")\n",
    "    isim = input(\"İsim: \")\n",
    "    soy_isim = input(\"Soy İsim: \")\n",
    "    telefon = input(\"Telefon Numarası: \")\n",
    "    dogum_tarihi = input(\"Doğum Tarihi: \")\n",
    "    \n",
    "    ogrenciler[okul_no] = {\n",
    "        \"İsim\": isim,\n",
    "        \"Soy İsim\": soy_isim,\n",
    "        \"Telefon\": telefon,\n",
    "        \"Doğum Tarihi\": dogum_tarihi\n",
    "    }\n",
    "\n",
    "print(ogrenciler)"
   ]
  },
  {
   "cell_type": "markdown",
   "metadata": {},
   "source": [
    "# Problem 2\n",
    "\n",
    "### a - Biraz ısınarak başlayalım!\n",
    "\n",
    "```\n",
    "numbers = [5,10,10,15,15,15,20,20,20,20]\n",
    "```\n",
    "\n",
    "Yukarıda `numbers` adında 10 elemanlı bir liste verilmiştir. Bu listenin her elemanını kontrol eden ve tekrar eden elemanları bir kez olacak şekilde başka bir listeye kopyalayan bir program yazınız. Son olarak oluşturduğunuz listeyi ekrana bastırınız.\n",
    "\n",
    "\n",
    "\n",
    "\n",
    "```\n",
    ">Output\n",
    "[5, 10, 15, 20]\n",
    "```\n"
   ]
  },
  {
   "cell_type": "code",
   "execution_count": 5,
   "metadata": {},
   "outputs": [
    {
     "name": "stdout",
     "output_type": "stream",
     "text": [
      "[5, 10, 15, 20]\n"
     ]
    }
   ],
   "source": [
    "numbers=[5,10,10,15,15,15,20,20,20,20]\n",
    "unique_numbers = []\n",
    "for number in numbers:\n",
    "    if number not in unique_numbers:\n",
    "        unique_numbers.append(number)\n",
    "print(unique_numbers)"
   ]
  },
  {
   "cell_type": "markdown",
   "metadata": {},
   "source": [
    "### 🌶️ b) Hadi işi biraz daha zorlaştıralım! \n",
    "\n",
    "\n",
    "Şimdiyse senden `numbers` isimli listedeki tekrar eden elemanları `repeatNumbers` adındaki listeye; tekrar etmeyen elemanları `uniqueNumbers`adındaki listeye kopyalayan yazmanı ve listeleri ekrana bastırmanı bekliyoruz\n",
    "\n",
    "```\n",
    ">Output\n",
    "Tekrar Eden Elemanlar: [10, 10, 15, 15, 15, 20, 20, 20, 20]\n",
    "Tekrar Etmeyen Elemanlar: [5]\n",
    "```"
   ]
  },
  {
   "cell_type": "code",
   "execution_count": 8,
   "metadata": {},
   "outputs": [
    {
     "name": "stdout",
     "output_type": "stream",
     "text": [
      "Tekrar Eden Elemanlar: [10, 10, 15, 15, 15, 20, 20, 20, 20]\n",
      "Tekrar Etmeyen Elemanlar: [5]\n"
     ]
    }
   ],
   "source": [
    "numbers = [5, 10, 10, 15, 15, 15, 20, 20, 20, 20]\n",
    "repeatNumbers = []\n",
    "uniqueNumbers = []\n",
    "count = {}\n",
    "for number in numbers:\n",
    "    if number in count:\n",
    "        count[number] += 1\n",
    "    else:\n",
    "        count[number] = 1\n",
    "\n",
    "for number in numbers:\n",
    "    if count[number] > 1:\n",
    "        repeatNumbers.append(number)\n",
    "    elif count[number] == 1:\n",
    "        if number not in uniqueNumbers:\n",
    "            uniqueNumbers.append(number)\n",
    "\n",
    "print(\"Tekrar Eden Elemanlar:\", repeatNumbers)\n",
    "print(\"Tekrar Etmeyen Elemanlar:\", uniqueNumbers)\n"
   ]
  },
  {
   "cell_type": "markdown",
   "metadata": {},
   "source": [
    "# Problem 3\n",
    "sn1 = {1,2,3,4,5}\n",
    "\n",
    "sn2 = {4,5,6,7,8}\n",
    "\n",
    " Verilen 2 adet küme için kesişimlerini, farklarını ve birleşimlerini bulunuz. "
   ]
  },
  {
   "cell_type": "code",
   "execution_count": 15,
   "metadata": {},
   "outputs": [
    {
     "name": "stdout",
     "output_type": "stream",
     "text": [
      "Kesişim: {4, 5}\n",
      "Fark: {8, 6, 7}\n",
      "Birleşim: {1, 2, 3, 4, 5, 6, 7, 8}\n"
     ]
    }
   ],
   "source": [
    "sn1 = {1,2,3,4,5}\n",
    "sn2 = {4,5,6,7,8}\n",
    "kesisim = sn1.intersection(sn2)\n",
    "fark = sn2.difference(sn1)\n",
    "birlesim = sn1.union(sn2)\n",
    "print(\"Kesişim:\", kesisim)\n",
    "print(\"Fark:\", fark)\n",
    "print(\"Birleşim:\", birlesim)"
   ]
  },
  {
   "cell_type": "markdown",
   "metadata": {},
   "source": [
    "# Problem 4\n",
    "\n",
    "Buradaki işlemlerimizin tamamı stringler içindir. Aşağıda verilecek olan metodlar için kendinizin örnek yaratması gerekmektedir. \n",
    "\n",
    "Örneğin `upper` için `string` değişkeni oluştururken` k = \"BAC\"` şeklinde oluşturmayınız. Bunun yerine k değişkenini `k = \"bac`\" şeklinde oluşturmanız `upper` metodundaki değişimi görebilmeniz için daha iyi olacaktır.\n",
    "\n",
    "Bütün metodlardaki değişimin gözle görülür şekilde değişimi beklenmektedir.\n",
    "\n",
    "\n",
    "1- capitalize(), lower(), upper(), swapcase(), title(), replace()\n",
    "\n",
    "2- endswith(), startswith(), find(), index(), count()\n",
    "\n",
    "3- split(), strip(), join(), islower(), isalpha(), isdigit()\n",
    "\n",
    "\n",
    "Yukarıdaki `string` metodlarındaki değişimleri görebildiğimiz bir program yazınız.\n"
   ]
  },
  {
   "cell_type": "code",
   "execution_count": 17,
   "metadata": {},
   "outputs": [
    {
     "name": "stdout",
     "output_type": "stream",
     "text": [
      "capitalize(): Hello world\n",
      "lower(): hello world\n",
      "upper(): HELLO WORLD\n",
      "swapcase(): HELLO WORLD\n",
      "title(): Hello World\n",
      "replace(): hello there\n",
      "\n",
      "\n",
      "endswith('world'): True\n",
      "startswith('hello'): True\n",
      "find('world'): 6\n",
      "index('world'): 6\n",
      "count('l'): 3\n",
      "\n",
      "\n",
      "split(): ['hello', 'world']\n",
      "strip(): hello world\n",
      "join(): hello-world\n",
      "islower(): True\n",
      "isalpha() (on 'helloworld'): True\n",
      "isdigit() (on '12345'): True\n"
     ]
    }
   ],
   "source": [
    "k = \"hello world\"\n",
    "print(\"capitalize():\", k.capitalize())\n",
    "print(\"lower():\", k.lower())\n",
    "print(\"upper():\", k.upper())\n",
    "print(\"swapcase():\", k.swapcase())\n",
    "print(\"title():\", k.title())\n",
    "print(\"replace():\", k.replace(\"world\", \"there\"))\n",
    "print(\"\\n\")\n",
    "\n",
    "k = \"hello world\"\n",
    "print(\"endswith('world'):\", k.endswith(\"world\"))\n",
    "print(\"startswith('hello'):\", k.startswith(\"hello\"))\n",
    "print(\"find('world'):\", k.find(\"world\"))\n",
    "print(\"index('world'):\", k.index(\"world\"))\n",
    "print(\"count('l'):\", k.count(\"l\"))\n",
    "print(\"\\n\")\n",
    "\n",
    "k = \" hello world \"\n",
    "print(\"split():\", k.split())\n",
    "print(\"strip():\", k.strip())\n",
    "words = k.strip().split()\n",
    "print(\"join():\", \"-\".join(words))\n",
    "print(\"islower():\", k.strip().islower())\n",
    "alpha_str = \"helloworld\"\n",
    "print(\"isalpha() (on 'helloworld'):\", alpha_str.isalpha())\n",
    "digit_str = \"12345\"\n",
    "print(\"isdigit() (on '12345'):\", digit_str.isdigit())\n"
   ]
  }
 ],
 "metadata": {
  "kernelspec": {
   "display_name": "Python 3.10.5 64-bit",
   "language": "python",
   "name": "python3"
  },
  "language_info": {
   "codemirror_mode": {
    "name": "ipython",
    "version": 3
   },
   "file_extension": ".py",
   "mimetype": "text/x-python",
   "name": "python",
   "nbconvert_exporter": "python",
   "pygments_lexer": "ipython3",
   "version": "3.12.3"
  },
  "orig_nbformat": 4,
  "vscode": {
   "interpreter": {
    "hash": "5026d2d6e7aaaaba093def813beadff083d8733e4a511af01735cbabd156995d"
   }
  }
 },
 "nbformat": 4,
 "nbformat_minor": 2
}
