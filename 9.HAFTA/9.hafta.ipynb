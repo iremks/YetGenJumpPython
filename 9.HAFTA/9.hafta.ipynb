{
 "cells": [
  {
   "cell_type": "code",
   "execution_count": 5,
   "metadata": {},
   "outputs": [
    {
     "name": "stdout",
     "output_type": "stream",
     "text": [
      "\n",
      "        Çalışan bilgisi:\n",
      "            isim: Ahmet\n",
      "            soyisim: Yılmaz\n",
      "            numara: 12345\n",
      "            maas: 5000\n",
      "            diller: ['Python', 'Java']\n",
      "        \n",
      "Dil eklendi\n",
      "\n",
      "        Çalışan bilgisi:\n",
      "            isim: Ahmet\n",
      "            soyisim: Yılmaz\n",
      "            numara: 12345\n",
      "            maas: 5000\n",
      "            diller: ['Python', 'Java', 'C++']\n",
      "        \n",
      "Zam yapılıyor\n",
      "\n",
      "        Çalışan bilgisi:\n",
      "            isim: Ahmet\n",
      "            soyisim: Yılmaz\n",
      "            numara: 12345\n",
      "            maas: 5250\n",
      "            diller: ['Python', 'Java', 'C++']\n",
      "        \n"
     ]
    }
   ],
   "source": [
    "class Yazilimci:\n",
    "    def __init__(self, isim, soyisim, numara, maas, diller):\n",
    "        self.isim = isim\n",
    "        self.soyisim = soyisim\n",
    "        self.numara = numara\n",
    "        self.maas = maas\n",
    "        self.diller = diller\n",
    "\n",
    "    def bilgileri_goster(self):\n",
    "        print(f\"\"\"\n",
    "        Çalışan bilgisi:\n",
    "            isim: {self.isim}\n",
    "            soyisim: {self.soyisim}\n",
    "            numara: {self.numara}\n",
    "            maas: {self.maas}\n",
    "            diller: {self.diller}\n",
    "        \"\"\")\n",
    "\n",
    "    def dil_ekle(self, yeni_dil):\n",
    "        print(\"Dil eklendi\")\n",
    "        self.diller.append(yeni_dil)\n",
    "\n",
    "    def maas_yukselt(self, zam):\n",
    "        print(\"Zam yapılıyor\")\n",
    "        self.maas += zam\n",
    "\n",
    "# Örnek kullanım:\n",
    "yazilimci1 = Yazilimci(\"Ahmet\", \"Yılmaz\", 12345, 5000, [\"Python\", \"Java\"])\n",
    "yazilimci1.bilgileri_goster()\n",
    "\n",
    "yazilimci1.dil_ekle(\"C++\")\n",
    "yazilimci1.bilgileri_goster()\n",
    "\n",
    "yazilimci1.maas_yukselt(250)\n",
    "yazilimci1.bilgileri_goster()\n",
    "\n",
    "    "
   ]
  },
  {
   "cell_type": "code",
   "execution_count": 7,
   "metadata": {},
   "outputs": [
    {
     "name": "stdout",
     "output_type": "stream",
     "text": [
      "\n",
      "        Çalışan bilgisi:\n",
      "            isim: Berkcan\n",
      "            soyisim: Gümüşışık\n",
      "            numara: 12345\n",
      "            maas: 10000\n",
      "            diller: ['Python', 'Flutter', 'JS']\n",
      "        \n",
      "Dil eklendi\n",
      "\n",
      "        Çalışan bilgisi:\n",
      "            isim: Berkcan\n",
      "            soyisim: Gümüşışık\n",
      "            numara: 12345\n",
      "            maas: 10000\n",
      "            diller: ['Python', 'Flutter', 'JS', 'C++']\n",
      "        \n",
      "Zam yapılıyor\n",
      "\n",
      "        Çalışan bilgisi:\n",
      "            isim: Berkcan\n",
      "            soyisim: Gümüşışık\n",
      "            numara: 12345\n",
      "            maas: 10250\n",
      "            diller: ['Python', 'Flutter', 'JS', 'C++']\n",
      "        \n"
     ]
    }
   ],
   "source": [
    "yazilimci = Yazilimci(\"Berkcan\", \"Gümüşışık\", 12345, 10000, [\"Python\", \"Flutter\", \"JS\"])\n",
    "yazilimci.bilgileri_goster()\n",
    "\n",
    "yazilimci.dil_ekle(\"C++\")\n",
    "yazilimci.bilgileri_goster()\n",
    "\n",
    "yazilimci.maas_yukselt(250)\n",
    "yazilimci.bilgileri_goster()"
   ]
  },
  {
   "cell_type": "code",
   "execution_count": null,
   "metadata": {},
   "outputs": [],
   "source": [
    "yazilimci.bilgileri.göster()"
   ]
  },
  {
   "cell_type": "code",
   "execution_count": null,
   "metadata": {},
   "outputs": [],
   "source": [
    "yazilimci.maas_yukselt(250)"
   ]
  },
  {
   "cell_type": "code",
   "execution_count": null,
   "metadata": {},
   "outputs": [],
   "source": [
    "yazilimci.bilgileri.göster()"
   ]
  },
  {
   "cell_type": "code",
   "execution_count": null,
   "metadata": {},
   "outputs": [],
   "source": [
    "#INHERITANCE\n",
    "#super() miraz alınan sınıfın metotlarını alt sınıftan kullanabilme\n",
    "#super()init()sınıfın metot ve öz. kullanabilme\n",
    "#base class ana sınıfıtr\n",
    "#sub class base in özell. ve met. kullanr\n"
   ]
  },
  {
   "cell_type": "code",
   "execution_count": 10,
   "metadata": {},
   "outputs": [
    {
     "name": "stdout",
     "output_type": "stream",
     "text": [
      "Person nesnesi türetildi\n",
      "Berkcan Gümüşışık 23\n",
      "Person nesnesi türetildi\n",
      "Student nesnesi türetildi\n",
      "Ali Veli 20 123\n",
      "123 numaralı öğrenci ders çalışıyor\n",
      "Person nesnesi türetildi\n",
      "Teacher nesnesi türetildi\n",
      "Ayşe Yılmaz 35\n",
      "Ayşe isimli öğretmen Matematik dersine girmektedir.\n"
     ]
    }
   ],
   "source": [
    "class Person:\n",
    "    def __init__(self, name, surname, age):\n",
    "        self.name = name\n",
    "        self.surname = surname\n",
    "        self.age = age\n",
    "        print(\"Person nesnesi türetildi\")\n",
    "    \n",
    "    def intro(self):\n",
    "        print(f\"{self.name} {self.surname} {self.age}\")\n",
    "\n",
    "class Student(Person):\n",
    "    def __init__(self, name, surname, age, number):\n",
    "        super().__init__(name, surname, age)\n",
    "        self.number = number\n",
    "        print(\"Student nesnesi türetildi\")\n",
    "    \n",
    "    def intro(self):\n",
    "        print(f\"{self.name} {self.surname} {self.age} {self.number}\")\n",
    "    \n",
    "    def study(self):\n",
    "        print(f\"{self.number} numaralı öğrenci ders çalışıyor\")\n",
    "\n",
    "class Teacher(Person):\n",
    "    def __init__(self, name, surname, age, branch):\n",
    "        super().__init__(name, surname, age)\n",
    "        self.branch = branch\n",
    "        print(\"Teacher nesnesi türetildi\")\n",
    "    \n",
    "    def teach(self):\n",
    "        print(f\"{self.name} isimli öğretmen {self.branch} dersine girmektedir.\")\n",
    "\n",
    "# Örnek kullanım:\n",
    "p1 = Person(\"Berkcan\", \"Gümüşışık\", 23)\n",
    "p1.intro()\n",
    "\n",
    "s1 = Student(\"Ali\", \"Veli\", 20, 123)\n",
    "s1.intro()\n",
    "s1.study()\n",
    "\n",
    "t1 = Teacher(\"Ayşe\", \"Yılmaz\", 35, \"Matematik\")\n",
    "t1.intro()\n",
    "t1.teach()\n"
   ]
  },
  {
   "cell_type": "code",
   "execution_count": 12,
   "metadata": {},
   "outputs": [
    {
     "name": "stdout",
     "output_type": "stream",
     "text": [
      "Person nesnesi türetildi\n",
      "Berkcan Gümüşışık 23\n",
      "Person nesnesi türetildi\n",
      "Student nesnesi türetildi\n",
      "Yetgen Jump 20 1001\n",
      "1001 numaralı öğrenci ders çalışıyor\n",
      "Person nesnesi türetildi\n",
      "Teacher nesnesi türetildi\n",
      "Ayşe Yılmaz 35\n",
      "Ayşe isimli öğretmen Matematik dersine girmektedir.\n"
     ]
    }
   ],
   "source": [
    "p1 = Person(\"Berkcan\", \"Gümüşışık\", 23)\n",
    "p1.intro()\n",
    "\n",
    "s1 = Student(\"Yetgen\", \"Jump\", 20, 1001)\n",
    "s1.intro()\n",
    "s1.study()\n",
    "\n",
    "t1 = Teacher(\"Ayşe\", \"Yılmaz\", 35, \"Matematik\")\n",
    "t1.intro()\n",
    "t1.teach()"
   ]
  },
  {
   "cell_type": "code",
   "execution_count": null,
   "metadata": {},
   "outputs": [],
   "source": [
    "t1=teacher(\"ahmet\",\"ahmet\",30,\"bilgisayar\")\n",
    "t1.intro()\n",
    "t1.teach()"
   ]
  }
 ],
 "metadata": {
  "kernelspec": {
   "display_name": "Python 3",
   "language": "python",
   "name": "python3"
  },
  "language_info": {
   "codemirror_mode": {
    "name": "ipython",
    "version": 3
   },
   "file_extension": ".py",
   "mimetype": "text/x-python",
   "name": "python",
   "nbconvert_exporter": "python",
   "pygments_lexer": "ipython3",
   "version": "3.12.3"
  }
 },
 "nbformat": 4,
 "nbformat_minor": 2
}
